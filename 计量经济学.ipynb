{
 "cells": [
  {
   "cell_type": "markdown",
   "metadata": {},
   "source": [
    "# 跨时横截面的混合：简单面板数据方法\n",
    "\n",
    "## 独立混合横截面\n",
    "- 与单独一个随机样本的差异在于，在不同上对总体进行抽样很可能导致观测点不是同分布的情况\n",
    "- 邹至庄检验（无非是一种F检验）能判断多元回归函数在两组数据之间有无差别，可以将这种检验用于两个不同的时期 P450\n",
    "- 所有基于残差平方和或R^2的F检验，不能对异方差性保持稳健，为了得到一个异方差—稳健的检验，必须构造交互项并做一个混合回归\n",
    "\n",
    "## 面板数据\n",
    "不能假定不同时点的观测是独立分布的\n"
   ]
  },
  {
   "cell_type": "code",
   "execution_count": null,
   "metadata": {},
   "outputs": [],
   "source": []
  }
 ],
 "metadata": {
  "kernelspec": {
   "display_name": "Python 3",
   "language": "python",
   "name": "python3"
  },
  "language_info": {
   "codemirror_mode": {
    "name": "ipython",
    "version": 3
   },
   "file_extension": ".py",
   "mimetype": "text/x-python",
   "name": "python",
   "nbconvert_exporter": "python",
   "pygments_lexer": "ipython3",
   "version": "3.6.5"
  }
 },
 "nbformat": 4,
 "nbformat_minor": 2
}
